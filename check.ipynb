{
 "cells": [
  {
   "cell_type": "code",
   "execution_count": 1,
   "id": "be2fa95f-850b-47c2-878a-2ba252c028a1",
   "metadata": {},
   "outputs": [
    {
     "name": "stderr",
     "output_type": "stream",
     "text": [
      "C:\\Users\\dell\\anaconda3\\envs\\deeplearning\\lib\\site-packages\\sklearn\\base.py:348: InconsistentVersionWarning: Trying to unpickle estimator MinMaxScaler from version 1.6.1 when using version 1.3.2. This might lead to breaking code or invalid results. Use at your own risk. For more info please refer to:\n",
      "https://scikit-learn.org/stable/model_persistence.html#security-maintainability-limitations\n",
      "  warnings.warn(\n",
      "C:\\Users\\dell\\anaconda3\\envs\\deeplearning\\lib\\site-packages\\sklearn\\base.py:348: InconsistentVersionWarning: Trying to unpickle estimator PCA from version 1.6.1 when using version 1.3.2. This might lead to breaking code or invalid results. Use at your own risk. For more info please refer to:\n",
      "https://scikit-learn.org/stable/model_persistence.html#security-maintainability-limitations\n",
      "  warnings.warn(\n"
     ]
    }
   ],
   "source": [
    "import pandas as pd\n",
    "import numpy as np\n",
    "import joblib\n",
    "\n",
    "scaler = joblib.load('minmaxscaler.pkl')\n",
    "pca = joblib.load('pcamodel.pkl')\n",
    "\n"
   ]
  },
  {
   "cell_type": "code",
   "execution_count": 2,
   "id": "ccbafd29-fec3-4973-8f39-1854c2f78091",
   "metadata": {},
   "outputs": [
    {
     "name": "stderr",
     "output_type": "stream",
     "text": [
      "C:\\Users\\dell\\anaconda3\\envs\\deeplearning\\lib\\site-packages\\sklearn\\base.py:465: UserWarning: X does not have valid feature names, but PCA was fitted with feature names\n",
      "  warnings.warn(\n"
     ]
    }
   ],
   "source": [
    "single_row = [\n",
    "    88,640,7,4,440,358,220,0,62.85714286,107.349008,179,0,89.5,103.3456982,\n",
    "    1246875,17187.5,64,135.557286,445,1,640,106.6666667,194.3251571,497,1,538,\n",
    "    179.3333333,303.6862416,530,4,0,0,0,0,164,104,10937.5,6250,0,220,66.5,\n",
    "    99.00183653,9801.363636,0,0,0,1,0,0,0,0,0,72.54545455,62.85714286,89.5,\n",
    "    164,0,0,0,0,0,0,7,440,4,358,8192,2053,2,20,0,0,0,0,0,0,0,0\n",
    "]\n",
    "\n",
    "# Create DataFrame - IMPORTANT: same number and order of columns as training features\n",
    "X_single = pd.DataFrame([single_row], columns=[col for col in scaler.feature_names_in_])\n",
    "\n",
    "# Handle infinities and NaNs (same as training pipeline)\n",
    "X_single.replace([np.inf, -np.inf], np.nan, inplace=True)\n",
    "X_single.fillna(X_single.mean(), inplace=True)\n",
    "\n",
    "# Apply scaling\n",
    "X_scaled = scaler.transform(X_single)\n",
    "\n",
    "# Apply PCA\n",
    "X_pca = pca.transform(X_scaled)\n",
    "\n",
    "# Convert to DataFrame\n",
    "pca_columns = [f'PC{i+1}' for i in range(X_pca.shape[1])]\n",
    "single_pca_df = pd.DataFrame(X_pca, columns=pca_columns)"
   ]
  },
  {
   "cell_type": "code",
   "execution_count": 3,
   "id": "931f6fd5-4503-44c4-a5d8-876720e3d3b8",
   "metadata": {},
   "outputs": [
    {
     "data": {
      "text/html": [
       "<div>\n",
       "<style scoped>\n",
       "    .dataframe tbody tr th:only-of-type {\n",
       "        vertical-align: middle;\n",
       "    }\n",
       "\n",
       "    .dataframe tbody tr th {\n",
       "        vertical-align: top;\n",
       "    }\n",
       "\n",
       "    .dataframe thead th {\n",
       "        text-align: right;\n",
       "    }\n",
       "</style>\n",
       "<table border=\"1\" class=\"dataframe\">\n",
       "  <thead>\n",
       "    <tr style=\"text-align: right;\">\n",
       "      <th></th>\n",
       "      <th>PC1</th>\n",
       "      <th>PC2</th>\n",
       "      <th>PC3</th>\n",
       "      <th>PC4</th>\n",
       "      <th>PC5</th>\n",
       "      <th>PC6</th>\n",
       "      <th>PC7</th>\n",
       "      <th>PC8</th>\n",
       "      <th>PC9</th>\n",
       "      <th>PC10</th>\n",
       "      <th>...</th>\n",
       "      <th>PC41</th>\n",
       "      <th>PC42</th>\n",
       "      <th>PC43</th>\n",
       "      <th>PC44</th>\n",
       "      <th>PC45</th>\n",
       "      <th>PC46</th>\n",
       "      <th>PC47</th>\n",
       "      <th>PC48</th>\n",
       "      <th>PC49</th>\n",
       "      <th>PC50</th>\n",
       "    </tr>\n",
       "  </thead>\n",
       "  <tbody>\n",
       "    <tr>\n",
       "      <th>0</th>\n",
       "      <td>-0.048867</td>\n",
       "      <td>-0.732472</td>\n",
       "      <td>0.273533</td>\n",
       "      <td>0.002962</td>\n",
       "      <td>-0.072613</td>\n",
       "      <td>0.013336</td>\n",
       "      <td>-0.044247</td>\n",
       "      <td>0.113164</td>\n",
       "      <td>-0.123968</td>\n",
       "      <td>-0.221363</td>\n",
       "      <td>...</td>\n",
       "      <td>0.002193</td>\n",
       "      <td>0.000866</td>\n",
       "      <td>0.001028</td>\n",
       "      <td>-0.002825</td>\n",
       "      <td>0.00197</td>\n",
       "      <td>0.001408</td>\n",
       "      <td>0.000006</td>\n",
       "      <td>0.00013</td>\n",
       "      <td>-0.000039</td>\n",
       "      <td>0.000021</td>\n",
       "    </tr>\n",
       "  </tbody>\n",
       "</table>\n",
       "<p>1 rows × 50 columns</p>\n",
       "</div>"
      ],
      "text/plain": [
       "        PC1       PC2       PC3       PC4       PC5       PC6       PC7  \\\n",
       "0 -0.048867 -0.732472  0.273533  0.002962 -0.072613  0.013336 -0.044247   \n",
       "\n",
       "        PC8       PC9      PC10  ...      PC41      PC42      PC43      PC44  \\\n",
       "0  0.113164 -0.123968 -0.221363  ...  0.002193  0.000866  0.001028 -0.002825   \n",
       "\n",
       "      PC45      PC46      PC47     PC48      PC49      PC50  \n",
       "0  0.00197  0.001408  0.000006  0.00013 -0.000039  0.000021  \n",
       "\n",
       "[1 rows x 50 columns]"
      ]
     },
     "execution_count": 3,
     "metadata": {},
     "output_type": "execute_result"
    }
   ],
   "source": [
    "single_pca_df"
   ]
  },
  {
   "cell_type": "code",
   "execution_count": 4,
   "id": "ed9fc52f-d290-452e-968d-9468c3fd7e53",
   "metadata": {},
   "outputs": [],
   "source": [
    "X = single_pca_df.values   \n",
    "Xtest = np.array(X)\n",
    "Xtest = np.reshape(Xtest, (Xtest.shape[0], Xtest.shape[1], 1))"
   ]
  },
  {
   "cell_type": "code",
   "execution_count": 5,
   "id": "54f423a2-7a40-429d-8660-f42fb1445dbc",
   "metadata": {},
   "outputs": [
    {
     "name": "stdout",
     "output_type": "stream",
     "text": [
      "Model: \"sequential\"\n",
      "_________________________________________________________________\n",
      " Layer (type)                Output Shape              Param #   \n",
      "=================================================================\n",
      " conv1d (Conv1D)             (None, 50, 64)            256       \n",
      "                                                                 \n",
      " conv1d_1 (Conv1D)           (None, 50, 64)            12352     \n",
      "                                                                 \n",
      " max_pooling1d (MaxPooling1D  (None, 25, 64)           0         \n",
      " )                                                               \n",
      "                                                                 \n",
      " conv1d_2 (Conv1D)           (None, 25, 128)           24704     \n",
      "                                                                 \n",
      " conv1d_3 (Conv1D)           (None, 25, 128)           49280     \n",
      "                                                                 \n",
      " max_pooling1d_1 (MaxPooling  (None, 12, 128)          0         \n",
      " 1D)                                                             \n",
      "                                                                 \n",
      " batch_normalization (BatchN  (None, 12, 128)          512       \n",
      " ormalization)                                                   \n",
      "                                                                 \n",
      " lstm (LSTM)                 (None, 100)               91600     \n",
      "                                                                 \n",
      " dropout (Dropout)           (None, 100)               0         \n",
      "                                                                 \n",
      " dense (Dense)               (None, 2)                 202       \n",
      "                                                                 \n",
      "=================================================================\n",
      "Total params: 178,906\n",
      "Trainable params: 178,650\n",
      "Non-trainable params: 256\n",
      "_________________________________________________________________\n"
     ]
    }
   ],
   "source": [
    "from keras.models import Sequential\n",
    "from keras.layers import Conv1D, MaxPooling1D, LSTM, Dense, Dropout, BatchNormalization\n",
    "from keras.regularizers import l2\n",
    "from keras.callbacks import EarlyStopping, LearningRateScheduler\n",
    "from keras.callbacks import ModelCheckpoint, EarlyStopping, LearningRateScheduler\n",
    "from tensorflow.keras.optimizers import Adam\n",
    "from tensorflow.keras.regularizers import l2\n",
    "# Define early stopping and learning rate scheduler callbacks\n",
    "initial_learning_rate = 0.001\n",
    "def lr_schedule(epoch):\n",
    "    return initial_learning_rate * (0.1 ** (epoch // 10))\n",
    "\n",
    "early_stopping = EarlyStopping(monitor='val_loss', patience=10, restore_best_weights=True)\n",
    "lr_scheduler = LearningRateScheduler(lr_schedule)\n",
    "\n",
    "# Define the rest of your callbacks\n",
    "my_callbacks = [\n",
    "    ModelCheckpoint(filepath='cnnlstm.h5', verbose=1, save_best_only=True, monitor='val_accuracy', mode='max'),\n",
    "    early_stopping,\n",
    "    lr_scheduler\n",
    "]\n",
    "model = Sequential()\n",
    "\n",
    "# Add Convolutional and MaxPooling Layers with L2 Regularization\n",
    "model.add(Conv1D(64, 3, padding=\"same\", input_shape=(Xtest.shape[1], 1), activation='relu', kernel_regularizer=l2(0.01)))\n",
    "model.add(Conv1D(64, 3, padding=\"same\", activation='relu', kernel_regularizer=l2(0.01)))\n",
    "model.add(MaxPooling1D(pool_size=2))\n",
    "model.add(Conv1D(128, 3, padding=\"same\", activation='relu', kernel_regularizer=l2(0.001)))\n",
    "model.add(Conv1D(128, 3, padding=\"same\", activation='relu', kernel_regularizer=l2(0.001)))\n",
    "model.add(MaxPooling1D(pool_size=2))\n",
    "\n",
    "# Add Batch Normalization\n",
    "model.add(BatchNormalization())\n",
    "\n",
    "# Add LSTM layer with L2 Regularization\n",
    "model.add(LSTM(units=100, return_sequences=False, dropout=0.1, kernel_regularizer=l2(0.01)))\n",
    "model.add(Dropout(0.5))  # Add dropout to reduce overfitting\n",
    "\n",
    "# Add Dense layer with L2 Regularization\n",
    "model.add(Dense(units=2, activation='softmax', kernel_regularizer=l2(0.01))) \n",
    "\n",
    "# Compile the model with a custom learning rate schedule\n",
    "opt = Adam(learning_rate=initial_learning_rate)\n",
    "model.compile(loss='categorical_crossentropy', optimizer=opt, metrics=['accuracy'])\n",
    "\n",
    "model.summary()"
   ]
  },
  {
   "cell_type": "code",
   "execution_count": 6,
   "id": "22734c4d-15cb-4c6a-a908-17b6593b969e",
   "metadata": {},
   "outputs": [],
   "source": [
    "model.load_weights('model.h5')"
   ]
  },
  {
   "cell_type": "code",
   "execution_count": 8,
   "id": "3759d76b-5cf6-4a86-a445-75f1d372ac25",
   "metadata": {},
   "outputs": [],
   "source": [
    "Y_pred = model.predict(Xtest)\n",
    "Y_pred_classes = np.argmax(Y_pred,axis = 1) \n"
   ]
  },
  {
   "cell_type": "code",
   "execution_count": 9,
   "id": "33459ad0-49c3-4d0e-bc11-ce63daf7578b",
   "metadata": {},
   "outputs": [
    {
     "name": "stderr",
     "output_type": "stream",
     "text": [
      "C:\\Users\\dell\\anaconda3\\envs\\deeplearning\\lib\\site-packages\\sklearn\\base.py:348: InconsistentVersionWarning: Trying to unpickle estimator DecisionTreeClassifier from version 1.6.1 when using version 1.3.2. This might lead to breaking code or invalid results. Use at your own risk. For more info please refer to:\n",
      "https://scikit-learn.org/stable/model_persistence.html#security-maintainability-limitations\n",
      "  warnings.warn(\n",
      "C:\\Users\\dell\\anaconda3\\envs\\deeplearning\\lib\\site-packages\\sklearn\\base.py:348: InconsistentVersionWarning: Trying to unpickle estimator RandomForestClassifier from version 1.6.1 when using version 1.3.2. This might lead to breaking code or invalid results. Use at your own risk. For more info please refer to:\n",
      "https://scikit-learn.org/stable/model_persistence.html#security-maintainability-limitations\n",
      "  warnings.warn(\n"
     ]
    }
   ],
   "source": [
    "import pickle\n",
    "with open('LIME.pkl', 'rb') as model_file:\n",
    "    loaded_model = pickle.load(model_file)"
   ]
  },
  {
   "cell_type": "code",
   "execution_count": 10,
   "id": "9de472f9-cf65-408a-afde-6e6227c7d512",
   "metadata": {},
   "outputs": [
    {
     "name": "stderr",
     "output_type": "stream",
     "text": [
      "C:\\Users\\dell\\anaconda3\\envs\\deeplearning\\lib\\site-packages\\sklearn\\base.py:465: UserWarning: X does not have valid feature names, but RandomForestClassifier was fitted with feature names\n",
      "  warnings.warn(\n"
     ]
    }
   ],
   "source": [
    "y_predrf = loaded_model.predict_proba(X)"
   ]
  },
  {
   "cell_type": "code",
   "execution_count": 11,
   "id": "45c30349-ed30-49d2-8fe9-9903e2e017fa",
   "metadata": {},
   "outputs": [],
   "source": [
    "fused_probs = (Y_pred + y_predrf) / 2\n",
    "Y_pred_classes = np.argmax(fused_probs,axis = 1) "
   ]
  },
  {
   "cell_type": "code",
   "execution_count": 13,
   "id": "d79c8dcb-3786-4158-b103-e441f7003029",
   "metadata": {},
   "outputs": [
    {
     "name": "stdout",
     "output_type": "stream",
     "text": [
      "Normal\n"
     ]
    }
   ],
   "source": [
    "if(Y_pred_classes[0]==0):\n",
    "    print(\"Normal\")\n",
    "else:\n",
    "    print(\"Malicious\")"
   ]
  }
 ],
 "metadata": {
  "kernelspec": {
   "display_name": "Python 3 (ipykernel)",
   "language": "python",
   "name": "python3"
  },
  "language_info": {
   "codemirror_mode": {
    "name": "ipython",
    "version": 3
   },
   "file_extension": ".py",
   "mimetype": "text/x-python",
   "name": "python",
   "nbconvert_exporter": "python",
   "pygments_lexer": "ipython3",
   "version": "3.9.19"
  }
 },
 "nbformat": 4,
 "nbformat_minor": 5
}
