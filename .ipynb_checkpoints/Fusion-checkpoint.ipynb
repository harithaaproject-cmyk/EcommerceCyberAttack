{
 "cells": [
  {
   "cell_type": "code",
   "execution_count": 22,
   "id": "e8547ca3-cd2d-463d-b60e-6da858dee417",
   "metadata": {},
   "outputs": [],
   "source": [
    "from numpy import random\n",
    "import warnings\n",
    "warnings.filterwarnings('ignore')\n",
    "import matplotlib\n",
    "import numpy as np\n",
    "import matplotlib.pyplot as plt\n",
    "import pandas as pd\n",
    "from sklearn.metrics import confusion_matrix\n",
    "from sklearn.metrics import accuracy_score\n",
    "from sklearn.metrics import f1_score\n",
    "from sklearn.metrics import classification_report \n",
    "from sklearn.model_selection import train_test_split\n",
    "from sklearn.preprocessing import LabelEncoder\n",
    "from tensorflow.keras.utils import to_categorical\n"
   ]
  },
  {
   "cell_type": "code",
   "execution_count": 23,
   "id": "9b0e6c00-a507-446a-b3e4-9f8501549d8d",
   "metadata": {},
   "outputs": [],
   "source": [
    "dataset = pd.read_csv('test.csv')\n",
    "X = dataset.drop('Label', axis=1)    \n",
    "Y = dataset['Label']\n",
    "label_encoder = LabelEncoder()\n",
    "y_encoded = label_encoder.fit_transform(Y)\n",
    "y_test = to_categorical(y_encoded)\n",
    "\n",
    "Xtest = np.array(X)\n",
    "Xtest = np.reshape(Xtest, (Xtest.shape[0], Xtest.shape[1], 1))"
   ]
  },
  {
   "cell_type": "code",
   "execution_count": 24,
   "id": "ff105685-0164-45c2-917d-a0d68160b794",
   "metadata": {},
   "outputs": [
    {
     "name": "stdout",
     "output_type": "stream",
     "text": [
      "Model: \"sequential_2\"\n",
      "_________________________________________________________________\n",
      " Layer (type)                Output Shape              Param #   \n",
      "=================================================================\n",
      " conv1d_8 (Conv1D)           (None, 50, 64)            256       \n",
      "                                                                 \n",
      " conv1d_9 (Conv1D)           (None, 50, 64)            12352     \n",
      "                                                                 \n",
      " max_pooling1d_4 (MaxPoolin  (None, 25, 64)            0         \n",
      " g1D)                                                            \n",
      "                                                                 \n",
      " conv1d_10 (Conv1D)          (None, 25, 128)           24704     \n",
      "                                                                 \n",
      " conv1d_11 (Conv1D)          (None, 25, 128)           49280     \n",
      "                                                                 \n",
      " max_pooling1d_5 (MaxPoolin  (None, 12, 128)           0         \n",
      " g1D)                                                            \n",
      "                                                                 \n",
      " batch_normalization_2 (Bat  (None, 12, 128)           512       \n",
      " chNormalization)                                                \n",
      "                                                                 \n",
      " lstm_2 (LSTM)               (None, 100)               91600     \n",
      "                                                                 \n",
      " dropout_2 (Dropout)         (None, 100)               0         \n",
      "                                                                 \n",
      " dense_2 (Dense)             (None, 2)                 202       \n",
      "                                                                 \n",
      "=================================================================\n",
      "Total params: 178906 (698.85 KB)\n",
      "Trainable params: 178650 (697.85 KB)\n",
      "Non-trainable params: 256 (1.00 KB)\n",
      "_________________________________________________________________\n"
     ]
    }
   ],
   "source": [
    "from keras.models import Sequential\n",
    "from keras.layers import Conv1D, MaxPooling1D, LSTM, Dense, Dropout, BatchNormalization\n",
    "from keras.regularizers import l2\n",
    "from keras.callbacks import EarlyStopping, LearningRateScheduler\n",
    "from keras.callbacks import ModelCheckpoint, EarlyStopping, LearningRateScheduler\n",
    "from tensorflow.keras.optimizers import Adam\n",
    "from tensorflow.keras.regularizers import l2\n",
    "# Define early stopping and learning rate scheduler callbacks\n",
    "initial_learning_rate = 0.001\n",
    "def lr_schedule(epoch):\n",
    "    return initial_learning_rate * (0.1 ** (epoch // 10))\n",
    "\n",
    "early_stopping = EarlyStopping(monitor='val_loss', patience=10, restore_best_weights=True)\n",
    "lr_scheduler = LearningRateScheduler(lr_schedule)\n",
    "\n",
    "# Define the rest of your callbacks\n",
    "my_callbacks = [\n",
    "    ModelCheckpoint(filepath='cnnlstm.h5', verbose=1, save_best_only=True, monitor='val_accuracy', mode='max'),\n",
    "    early_stopping,\n",
    "    lr_scheduler\n",
    "]\n",
    "model = Sequential()\n",
    "\n",
    "# Add Convolutional and MaxPooling Layers with L2 Regularization\n",
    "model.add(Conv1D(64, 3, padding=\"same\", input_shape=(Xtest.shape[1], 1), activation='relu', kernel_regularizer=l2(0.01)))\n",
    "model.add(Conv1D(64, 3, padding=\"same\", activation='relu', kernel_regularizer=l2(0.01)))\n",
    "model.add(MaxPooling1D(pool_size=2))\n",
    "model.add(Conv1D(128, 3, padding=\"same\", activation='relu', kernel_regularizer=l2(0.001)))\n",
    "model.add(Conv1D(128, 3, padding=\"same\", activation='relu', kernel_regularizer=l2(0.001)))\n",
    "model.add(MaxPooling1D(pool_size=2))\n",
    "\n",
    "# Add Batch Normalization\n",
    "model.add(BatchNormalization())\n",
    "\n",
    "# Add LSTM layer with L2 Regularization\n",
    "model.add(LSTM(units=100, return_sequences=False, dropout=0.1, kernel_regularizer=l2(0.01)))\n",
    "model.add(Dropout(0.5))  # Add dropout to reduce overfitting\n",
    "\n",
    "# Add Dense layer with L2 Regularization\n",
    "model.add(Dense(units=2, activation='softmax', kernel_regularizer=l2(0.01))) \n",
    "\n",
    "# Compile the model with a custom learning rate schedule\n",
    "opt = Adam(learning_rate=initial_learning_rate)\n",
    "model.compile(loss='categorical_crossentropy', optimizer=opt, metrics=['accuracy'])\n",
    "\n",
    "model.summary()"
   ]
  },
  {
   "cell_type": "code",
   "execution_count": 25,
   "id": "eef865a9-22e6-4b37-afdd-c771e011ab1a",
   "metadata": {},
   "outputs": [],
   "source": [
    "model.load_weights('model.h5')"
   ]
  },
  {
   "cell_type": "code",
   "execution_count": 26,
   "id": "9085f532-11c4-47d2-bd8d-32e1e1fba046",
   "metadata": {},
   "outputs": [
    {
     "name": "stdout",
     "output_type": "stream",
     "text": [
      "375/375 [==============================] - 4s 8ms/step\n"
     ]
    }
   ],
   "source": [
    "\n",
    "Y_pred = model.predict(Xtest)\n",
    "Y_pred_classes = np.argmax(Y_pred,axis = 1) \n",
    "Y_true=np.argmax(y_test,axis = 1) "
   ]
  },
  {
   "cell_type": "code",
   "execution_count": 27,
   "id": "03c3f49f-91bd-47e0-aff7-652494833de0",
   "metadata": {},
   "outputs": [
    {
     "data": {
      "text/plain": [
       "array([[9.9920964e-01, 7.9033012e-04],\n",
       "       [9.9844068e-01, 1.5593115e-03],\n",
       "       [9.9913496e-01, 8.6502591e-04],\n",
       "       ...,\n",
       "       [6.6458797e-01, 3.3541206e-01],\n",
       "       [9.9795258e-01, 2.0474107e-03],\n",
       "       [9.9294281e-01, 7.0572398e-03]], dtype=float32)"
      ]
     },
     "execution_count": 27,
     "metadata": {},
     "output_type": "execute_result"
    }
   ],
   "source": [
    "Y_pred"
   ]
  },
  {
   "cell_type": "code",
   "execution_count": 28,
   "id": "bb1410b8-eda6-4fed-af5e-76d205080b60",
   "metadata": {},
   "outputs": [],
   "source": [
    "import pickle\n",
    "with open('LIME.pkl', 'rb') as model_file:\n",
    "    loaded_model = pickle.load(model_file)"
   ]
  },
  {
   "cell_type": "code",
   "execution_count": 29,
   "id": "10cd28a8-1836-4f87-a663-330bc22c3f1d",
   "metadata": {},
   "outputs": [],
   "source": [
    "y_predrf = loaded_model.predict_proba(X)"
   ]
  },
  {
   "cell_type": "code",
   "execution_count": 30,
   "id": "ee6146be-ac2d-461f-81b5-8f40cf93cd0a",
   "metadata": {},
   "outputs": [
    {
     "data": {
      "text/plain": [
       "array([[0.96970284, 0.03029716],\n",
       "       [0.87351751, 0.12648249],\n",
       "       [0.9033492 , 0.0966508 ],\n",
       "       ...,\n",
       "       [0.88495751, 0.11504249],\n",
       "       [0.89787641, 0.10212359],\n",
       "       [0.88681006, 0.11318994]])"
      ]
     },
     "execution_count": 30,
     "metadata": {},
     "output_type": "execute_result"
    }
   ],
   "source": [
    "y_predrf"
   ]
  },
  {
   "cell_type": "code",
   "execution_count": 32,
   "id": "0dc48b45-048a-4af1-9b04-79949046bd9d",
   "metadata": {},
   "outputs": [],
   "source": [
    "fused_probs = (Y_pred + y_predrf) / 2\n",
    "Y_pred_classes = np.argmax(fused_probs,axis = 1) "
   ]
  },
  {
   "cell_type": "code",
   "execution_count": 33,
   "id": "3200d612-1eaa-42e1-a34a-5fdafe982887",
   "metadata": {},
   "outputs": [],
   "source": [
    "def plot_confusion_matrix(cm, classes,\n",
    "                          normalize=False,\n",
    "                          title='Confusion matrix',\n",
    "                          cmap=plt.cm.Blues):\n",
    "    \"\"\"\n",
    "    This function prints and plots the confusion matrix.\n",
    "    Normalization can be applied by setting `normalize=True`.\n",
    "    \"\"\"\n",
    "    plt.imshow(cm, interpolation='nearest', cmap=cmap)\n",
    "    plt.title(title)\n",
    "    plt.colorbar()\n",
    "    tick_marks = np.arange(len(classes))\n",
    "    plt.xticks(tick_marks, classes, rotation=45)\n",
    "    plt.yticks(tick_marks, classes)\n",
    "\n",
    "    if normalize:\n",
    "        cm = cm.astype('float') / cm.sum(axis=1)[:, np.newaxis]\n",
    "\n",
    "    thresh = cm.max() / 2.\n",
    "    for i, j in itertools.product(range(cm.shape[0]), range(cm.shape[1])):\n",
    "        plt.text(j, i, cm[i, j],\n",
    "                 horizontalalignment=\"center\",\n",
    "                 color=\"white\" if cm[i, j] > thresh else \"black\")\n",
    "\n",
    "    plt.tight_layout()\n",
    "    plt.ylabel('True label')\n",
    "    plt.xlabel('Predicted label')\n",
    "        "
   ]
  },
  {
   "cell_type": "code",
   "execution_count": 35,
   "id": "358d382b-0b61-4e67-9372-747238cd15a9",
   "metadata": {},
   "outputs": [
    {
     "data": {
      "image/png": "[encoded data removed]",
      "text/plain": [
       "<Figure size 640x480 with 2 Axes>"
      ]
     },
     "metadata": {},
     "output_type": "display_data"
    }
   ],
   "source": [
    "from sklearn.metrics import accuracy_score, precision_score, classification_report\n",
    "from sklearn.metrics import confusion_matrix\n",
    "import itertools\n",
    "# compute the confusion matrix\n",
    "confusion_mtx = confusion_matrix(Y_true, Y_pred_classes) \n",
    "# plot the confusion matrix\n",
    "plot_confusion_matrix(confusion_mtx, classes = [\"Legitimate\",\"Malicious\"])"
   ]
  },
  {
   "cell_type": "code",
   "execution_count": 37,
   "id": "06c94b60-6ada-43fb-a5e0-c746d9094b3e",
   "metadata": {},
   "outputs": [
    {
     "name": "stdout",
     "output_type": "stream",
     "text": [
      "Accuracy: 0.97\n",
      "Precision: 0.97\n",
      "Recall: 0.97\n",
      "F1 Score: 0.97\n"
     ]
    }
   ],
   "source": [
    "from sklearn.metrics import accuracy_score, precision_score, recall_score, f1_score, classification_report\n",
    "\n",
    "accuracy = accuracy_score(Y_true, Y_pred_classes)\n",
    "print(f\"Accuracy: {accuracy:.2f}\")\n",
    "\n",
    "# Compute precision\n",
    "precision = precision_score(Y_true, Y_pred_classes, average='weighted')\n",
    "\n",
    "print(f\"Precision: {precision:.2f}\")\n",
    "# Compute recall\n",
    "recall = recall_score(Y_true, Y_pred_classes, average='weighted')\n",
    "\n",
    "print(f\"Recall: {recall:.2f}\")\n",
    "\n",
    "# Compute F1-score\n",
    "f1 = f1_score(Y_true, Y_pred_classes, average='weighted')\n",
    "\n",
    "print(f\"F1 Score: {f1:.2f}\")"
   ]
  },
  {
   "cell_type": "code",
   "execution_count": null,
   "id": "cee708d4-2da2-486d-808c-db2eb94fd3cf",
   "metadata": {},
   "outputs": [],
   "source": []
  }
 ],
 "metadata": {
  "kernelspec": {
   "display_name": "Python [conda env:base] *",
   "language": "python",
   "name": "conda-base-py"
  },
  "language_info": {
   "codemirror_mode": {
    "name": "ipython",
    "version": 3
   },
   "file_extension": ".py",
   "mimetype": "text/x-python",
   "name": "python",
   "nbconvert_exporter": "python",
   "pygments_lexer": "ipython3",
   "version": "3.12.7"
  }
 },
 "nbformat": 4,
 "nbformat_minor": 5
}
